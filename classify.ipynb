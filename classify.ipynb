{
 "cells": [
  {
   "cell_type": "markdown",
   "metadata": {},
   "source": [
    "# Classify Hymenoptera species"
   ]
  },
  {
   "cell_type": "code",
   "execution_count": 10,
   "metadata": {},
   "outputs": [],
   "source": [
    "##############################################################################\n",
    "#                                                                            #\n",
    "#                ▄▄████████████▄ ▐                                           #\n",
    "#             ▄███▀▀▀▀▀▀▀████████▐                                           #\n",
    "#         ▄▀▀▀▄▄▄▄███████▄▄▄▄▀▀▀█▐                                           #\n",
    "#      ▄▛ ▟█████████████████████▄▐                                           #\n",
    "#    ▄█▛ ▟█         ▀▚   █████   ▐                                           #\n",
    "#   ███ ██▌   ▄▄▄▖   ▐  ▐████▌   ▐    ████████ ████████  ▟████▙   ██     ██  #\n",
    "#  ████ ██▌   ███▛   ▐  ▐████▌   ▐       ██    ██       ▟█▛  ▜█▙  ██     ██  #\n",
    "#  ████ ▀█           ▞  █████    ▐       ██    ███████  ██        █████████  #\n",
    "#  █████ █   ▄▄▄▄▄▄▄▞   ▜██▛    ▐▐       ██    ██       ▜█▙  ▟█▛  ██     ██  #\n",
    "#   █████    ██████            ▐█▐       ██    ████████  ▜████▛   ██     ██  #\n",
    "#    █████  ███████▙          ▟██▐                                           #\n",
    "#     ▀████▙▀▀▀█████████████▀▀▀▄▄▐                                           #\n",
    "#       ▀██████▄▄▄▄▀▀▀▀▀▄▄▄▄█████▐                                           #\n",
    "#          ▀███████████████████▀ ▐                                           #\n",
    "#             ▀▀███████████▀▀    ▐                                           #\n",
    "#                                                                            #\n",
    "##############################################################################"
   ]
  },
  {
   "cell_type": "code",
   "execution_count": 2,
   "metadata": {},
   "outputs": [
    {
     "name": "stderr",
     "output_type": "stream",
     "text": [
      "2022-02-08 11:36:38.991551: W tensorflow/stream_executor/platform/default/dso_loader.cc:64] Could not load dynamic library 'libcudart.so.11.0'; dlerror: libcudart.so.11.0: cannot open shared object file: No such file or directory; LD_LIBRARY_PATH: /home/eisti/.pyenv/versions/3.10.0/lib/python3.10/site-packages/cv2/../../lib64:\n",
      "2022-02-08 11:36:38.991579: I tensorflow/stream_executor/cuda/cudart_stub.cc:29] Ignore above cudart dlerror if you do not have a GPU set up on your machine.\n"
     ]
    }
   ],
   "source": [
    "# import the necessary packages\n",
    "import numpy as np\n",
    "import argparse\n",
    "import time\n",
    "import cv2\n",
    "import os\n",
    "import pandas as pd\n",
    "import keras"
   ]
  },
  {
   "cell_type": "code",
   "execution_count": 3,
   "metadata": {},
   "outputs": [],
   "source": [
    "DATA_PATH = \"./dataset\"\n",
    "MODEL_PATH = \"./model\""
   ]
  },
  {
   "cell_type": "code",
   "execution_count": 4,
   "metadata": {},
   "outputs": [
    {
     "data": {
      "text/plain": [
       "['Abeille', 'Guepe', 'Frelon Européen', 'Frelon Oriental', 'Frelon Asiatique']"
      ]
     },
     "execution_count": 4,
     "metadata": {},
     "output_type": "execute_result"
    }
   ],
   "source": [
    "# import custom dataset\n",
    "labels = open(os.path.join(DATA_PATH, \"obj.names\")).read().splitlines()\n",
    "labels"
   ]
  },
  {
   "cell_type": "code",
   "execution_count": 5,
   "metadata": {},
   "outputs": [],
   "source": [
    "net = cv2.dnn.readNetFromDarknet(os.path.join(MODEL_PATH, \"cfg\", \"yolov2-voc.cfg\"), os.path.join(MODEL_PATH,\"yolov2-voc.weights\"))"
   ]
  },
  {
   "cell_type": "markdown",
   "metadata": {},
   "source": [
    "# Retrain the model with our data"
   ]
  },
  {
   "cell_type": "code",
   "execution_count": null,
   "metadata": {},
   "outputs": [],
   "source": []
  },
  {
   "cell_type": "code",
   "execution_count": 10,
   "metadata": {},
   "outputs": [],
   "source": [
    "# load the image from disk\n",
    "image = cv2.imread('./image/image_1.jpeg')\n",
    "# create blob from image\n",
    "blob = cv2.dnn.blobFromImage(image=image, scalefactor=0.01, size=(224, 224), mean=(104, 117, 123))"
   ]
  },
  {
   "cell_type": "code",
   "execution_count": 7,
   "metadata": {},
   "outputs": [],
   "source": [
    "# set the input blob for the neural network\n",
    "net.setInput(blob)\n",
    "# forward pass image blog through the model\n",
    "outputs = net.forward()"
   ]
  },
  {
   "cell_type": "code",
   "execution_count": 8,
   "metadata": {},
   "outputs": [
    {
     "data": {
      "text/plain": [
       "True"
      ]
     },
     "execution_count": 8,
     "metadata": {},
     "output_type": "execute_result"
    }
   ],
   "source": [
    "final_outputs = outputs[0]\n",
    "# make all the outputs 1D\n",
    "final_outputs = final_outputs.reshape(25)\n",
    "# get the class label\n",
    "label_id = np.argmax(final_outputs)\n",
    "# convert the output scores to softmax probabilities\n",
    "probs = np.exp(final_outputs) / np.sum(np.exp(final_outputs))\n",
    "# get the final highest probability\n",
    "final_prob = np.max(probs) * 100.\n",
    "# map the max confidence to the class label names\n",
    "out_name = labels[label_id]\n",
    "out_text = f\"{out_name}, {final_prob:.3f}\"\n",
    "# put the class name text on top of the image\n",
    "cv2.putText(image, out_text, (25, 50), cv2.FONT_HERSHEY_SIMPLEX, 1, (0, 255, 0), 2)\n",
    "cv2.imshow('Image', image)\n",
    "cv2.waitKey(0)\n",
    "cv2.imwrite('result_image.jpg', image)"
   ]
  }
 ],
 "metadata": {
  "interpreter": {
   "hash": "43f187d08a7b233672e80b21f375ffa49d1e0713ec8f6d0daf527eb8a4289c85"
  },
  "kernelspec": {
   "display_name": "Python 3.10.0 64-bit ('3.10.0': pyenv)",
   "language": "python",
   "name": "python3"
  },
  "language_info": {
   "codemirror_mode": {
    "name": "ipython",
    "version": 3
   },
   "file_extension": ".py",
   "mimetype": "text/x-python",
   "name": "python",
   "nbconvert_exporter": "python",
   "pygments_lexer": "ipython3",
   "version": "3.10.0"
  },
  "orig_nbformat": 4
 },
 "nbformat": 4,
 "nbformat_minor": 2
}
