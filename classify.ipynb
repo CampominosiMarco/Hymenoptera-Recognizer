{
 "cells": [
  {
   "cell_type": "markdown",
   "metadata": {},
   "source": [
    "# Classify Hymenoptera species"
   ]
  },
  {
   "cell_type": "code",
   "execution_count": 1,
   "metadata": {},
   "outputs": [],
   "source": [
    "##############################################################################\n",
    "#                                                                            #\n",
    "#                ▄▄████████████▄ ▐                                           #\n",
    "#             ▄███▀▀▀▀▀▀▀████████▐                                           #\n",
    "#         ▄▀▀▀▄▄▄▄███████▄▄▄▄▀▀▀█▐                                           #\n",
    "#      ▄▛ ▟█████████████████████▄▐                                           #\n",
    "#    ▄█▛ ▟█         ▀▚   █████   ▐                                           #\n",
    "#   ███ ██▌   ▄▄▄▖   ▐  ▐████▌   ▐    ████████ ████████  ▟████▙   ██     ██  #\n",
    "#  ████ ██▌   ███▛   ▐  ▐████▌   ▐       ██    ██       ▟█▛  ▜█▙  ██     ██  #\n",
    "#  ████ ▀█           ▞  █████    ▐       ██    ███████  ██        █████████  #\n",
    "#  █████ █   ▄▄▄▄▄▄▄▞   ▜██▛    ▐▐       ██    ██       ▜█▙  ▟█▛  ██     ██  #\n",
    "#   █████    ██████            ▐█▐       ██    ████████  ▜████▛   ██     ██  #\n",
    "#    █████  ███████▙          ▟██▐                                           #\n",
    "#     ▀████▙▀▀▀█████████████▀▀▀▄▄▐                                           #\n",
    "#       ▀██████▄▄▄▄▀▀▀▀▀▄▄▄▄█████▐                                           #\n",
    "#          ▀███████████████████▀ ▐                                           #\n",
    "#             ▀▀███████████▀▀    ▐                                           #\n",
    "#                                                                            #\n",
    "##############################################################################"
   ]
  },
  {
   "cell_type": "code",
   "execution_count": 46,
   "metadata": {},
   "outputs": [],
   "source": [
    "# import the necessary packages\n",
    "import numpy as np\n",
    "import cv2\n",
    "import os\n",
    "import torch\n",
    "import torchvision\n",
    "import yolo\n",
    "from utils.callbacks import Callbacks"
   ]
  },
  {
   "cell_type": "markdown",
   "metadata": {},
   "source": [
    "# Constants"
   ]
  },
  {
   "cell_type": "code",
   "execution_count": 67,
   "metadata": {},
   "outputs": [],
   "source": [
    "DATA_PATH = \"~/Projets/Hymenoptera-Recognizer/dataset/Hymenoptera.v2i.yolov5pytorch\"\n",
    "MODEL_PATH = \"./models\""
   ]
  },
  {
   "cell_type": "markdown",
   "metadata": {},
   "source": [
    "# Load dataset"
   ]
  },
  {
   "cell_type": "code",
   "execution_count": 4,
   "metadata": {},
   "outputs": [],
   "source": [
    "# load pytorch dataset folder\n",
    "def load_dataset(data_path):\n",
    "    dataset = torchvision.datasets.ImageFolder(root=data_path,\n",
    "                                               transform=torchvision.transforms.ToTensor())\n",
    "    return dataset"
   ]
  },
  {
   "cell_type": "code",
   "execution_count": 5,
   "metadata": {},
   "outputs": [
    {
     "data": {
      "text/plain": [
       "Dataset ImageFolder\n",
       "    Number of datapoints: 585\n",
       "    Root location: ./dataset/Hymenoptera.v2i.yolov5pytorch\n",
       "    StandardTransform\n",
       "Transform: ToTensor()"
      ]
     },
     "execution_count": 5,
     "metadata": {},
     "output_type": "execute_result"
    }
   ],
   "source": [
    "dataset = load_dataset(DATA_PATH)\n",
    "dataset"
   ]
  },
  {
   "cell_type": "markdown",
   "metadata": {},
   "source": [
    "# Load model"
   ]
  },
  {
   "cell_type": "markdown",
   "metadata": {},
   "source": [
    "Telecharger le modèle yolov5m.pt et le mettre dans le répertoire \".models\""
   ]
  },
  {
   "cell_type": "code",
   "execution_count": 24,
   "metadata": {},
   "outputs": [
    {
     "name": "stderr",
     "output_type": "stream",
     "text": [
      "Using cache found in /home/sylvain/.cache/torch/hub/ultralytics_yolov5_master\n",
      "YOLOv5 🚀 2022-2-9 torch 1.10.2+cu102 CPU\n",
      "\n",
      "Fusing layers... \n",
      "Model Summary: 290 layers, 21172173 parameters, 0 gradients\n",
      "Adding AutoShape... \n"
     ]
    }
   ],
   "source": [
    "model = torch.hub.load('ultralytics/yolov5', 'yolov5m')"
   ]
  },
  {
   "cell_type": "markdown",
   "metadata": {},
   "source": [
    "# Retrain the model with our data"
   ]
  },
  {
   "cell_type": "markdown",
   "metadata": {},
   "source": [
    "```bash\n",
    "git clone git@github.com:ultralytics/yolov5.git\n",
    "```"
   ]
  },
  {
   "cell_type": "code",
   "execution_count": 70,
   "metadata": {},
   "outputs": [
    {
     "name": "stdout",
     "output_type": "stream",
     "text": [
      "/home/sylvain/.pyenv/versions/3.8.9/envs/UseCase/lib/python3.8/site-packages/setuptools/distutils_patch.py:25: UserWarning: Distutils was imported before Setuptools. This usage is discouraged and may exhibit undesirable behaviors or errors. Please use Setuptools' objects directly or at least import Setuptools first.\n",
      "  warnings.warn(\n",
      "\u001b[34m\u001b[1mtrain: \u001b[0mweights=yolov5s.pt, cfg=, data=/home/sylvain/Projets/Hymenoptera-Recognizer/dataset/Hymenoptera.v2i.yolov5pytorch/data.yaml, hyp=yolov5/data/hyps/hyp.scratch.yaml, epochs=5, batch_size=16, imgsz=640, rect=False, resume=False, nosave=False, noval=False, noautoanchor=False, evolve=None, bucket=, cache=None, image_weights=False, device=, multi_scale=False, single_cls=False, optimizer=SGD, sync_bn=False, workers=8, project=yolov5/runs/train, name=exp, exist_ok=False, quad=False, linear_lr=False, label_smoothing=0.0, patience=100, freeze=[0], save_period=-1, local_rank=-1, entity=None, upload_dataset=False, bbox_interval=-1, artifact_alias=latest\n",
      "\u001b[34m\u001b[1mgithub: \u001b[0mup to date with git@github.com:ultralytics/yolov5 ✅\n",
      "/home/sylvain/.pyenv/versions/3.8.9/envs/UseCase/lib/python3.8/site-packages/torch/cuda/__init__.py:80: UserWarning: CUDA initialization: Unexpected error from cudaGetDeviceCount(). Did you run some cuda functions before calling NumCudaDevices() that might have already set an error? Error 803: system has unsupported display driver / cuda driver combination (Triggered internally at  ../c10/cuda/CUDAFunctions.cpp:112.)\n",
      "  return torch._C._cuda_getDeviceCount() > 0\n",
      "YOLOv5 🚀 v6.0-243-g9c513ca torch 1.10.2+cu102 CPU\n",
      "\n",
      "\u001b[34m\u001b[1mhyperparameters: \u001b[0mlr0=0.01, lrf=0.1, momentum=0.937, weight_decay=0.0005, warmup_epochs=3.0, warmup_momentum=0.8, warmup_bias_lr=0.1, box=0.05, cls=0.5, cls_pw=1.0, obj=1.0, obj_pw=1.0, iou_t=0.2, anchor_t=4.0, fl_gamma=0.0, hsv_h=0.015, hsv_s=0.7, hsv_v=0.4, degrees=0.0, translate=0.1, scale=0.5, shear=0.0, perspective=0.0, flipud=0.0, fliplr=0.5, mosaic=1.0, mixup=0.0, copy_paste=0.0\n",
      "\u001b[34m\u001b[1mWeights & Biases: \u001b[0mrun 'pip install wandb' to automatically track and visualize YOLOv5 🚀 runs (RECOMMENDED)\n",
      "\u001b[34m\u001b[1mTensorBoard: \u001b[0mStart with 'tensorboard --logdir yolov5/runs/train', view at http://localhost:6006/\n",
      "Downloading https://github.com/ultralytics/yolov5/releases/download/v6.0/yolov5s.pt to yolov5s.pt...\n",
      "100%|██████████████████████████████████████| 14.0M/14.0M [00:00<00:00, 33.0MB/s]\n",
      "\n",
      "Overriding model.yaml nc=80 with nc=5\n",
      "\n",
      "                 from  n    params  module                                  arguments                     \n",
      "  0                -1  1      3520  models.common.Conv                      [3, 32, 6, 2, 2]              \n",
      "  1                -1  1     18560  models.common.Conv                      [32, 64, 3, 2]                \n",
      "  2                -1  1     18816  models.common.C3                        [64, 64, 1]                   \n",
      "  3                -1  1     73984  models.common.Conv                      [64, 128, 3, 2]               \n",
      "  4                -1  2    115712  models.common.C3                        [128, 128, 2]                 \n",
      "  5                -1  1    295424  models.common.Conv                      [128, 256, 3, 2]              \n",
      "  6                -1  3    625152  models.common.C3                        [256, 256, 3]                 \n",
      "  7                -1  1   1180672  models.common.Conv                      [256, 512, 3, 2]              \n",
      "  8                -1  1   1182720  models.common.C3                        [512, 512, 1]                 \n",
      "  9                -1  1    656896  models.common.SPPF                      [512, 512, 5]                 \n",
      " 10                -1  1    131584  models.common.Conv                      [512, 256, 1, 1]              \n",
      " 11                -1  1         0  torch.nn.modules.upsampling.Upsample    [None, 2, 'nearest']          \n",
      " 12           [-1, 6]  1         0  models.common.Concat                    [1]                           \n",
      " 13                -1  1    361984  models.common.C3                        [512, 256, 1, False]          \n",
      " 14                -1  1     33024  models.common.Conv                      [256, 128, 1, 1]              \n",
      " 15                -1  1         0  torch.nn.modules.upsampling.Upsample    [None, 2, 'nearest']          \n",
      " 16           [-1, 4]  1         0  models.common.Concat                    [1]                           \n",
      " 17                -1  1     90880  models.common.C3                        [256, 128, 1, False]          \n",
      " 18                -1  1    147712  models.common.Conv                      [128, 128, 3, 2]              \n",
      " 19          [-1, 14]  1         0  models.common.Concat                    [1]                           \n",
      " 20                -1  1    296448  models.common.C3                        [256, 256, 1, False]          \n",
      " 21                -1  1    590336  models.common.Conv                      [256, 256, 3, 2]              \n",
      " 22          [-1, 10]  1         0  models.common.Concat                    [1]                           \n",
      " 23                -1  1   1182720  models.common.C3                        [512, 512, 1, False]          \n",
      " 24      [17, 20, 23]  1     26970  models.yolo.Detect                      [5, [[10, 13, 16, 30, 33, 23], [30, 61, 62, 45, 59, 119], [116, 90, 156, 198, 373, 326]], [128, 256, 512]]\n",
      "Model Summary: 270 layers, 7033114 parameters, 7033114 gradients, 15.9 GFLOPs\n",
      "\n",
      "Transferred 343/349 items from yolov5s.pt\n",
      "Scaled weight_decay = 0.0005\n",
      "\u001b[34m\u001b[1moptimizer:\u001b[0m SGD with parameter groups 57 weight (no decay), 60 weight, 60 bias\n",
      "\u001b[34m\u001b[1mtrain: \u001b[0mScanning '/home/sylvain/Projets/Hymenoptera-Recognizer/yolov5/../dataset/\u001b[0m\n",
      "\u001b[34m\u001b[1mtrain: \u001b[0mNew cache created: /home/sylvain/Projets/Hymenoptera-Recognizer/yolov5/../dataset/Hymenoptera.v2i.yolov5pytorch/train/labels.cache\n",
      "\u001b[34m\u001b[1mval: \u001b[0mScanning '/home/sylvain/Projets/Hymenoptera-Recognizer/yolov5/../dataset/Hy\u001b[0m\n",
      "\u001b[34m\u001b[1mval: \u001b[0mNew cache created: /home/sylvain/Projets/Hymenoptera-Recognizer/yolov5/../dataset/Hymenoptera.v2i.yolov5pytorch/valid/labels.cache\n",
      "Plotting labels to yolov5/runs/train/exp7/labels.jpg... \n",
      "\n",
      "\u001b[34m\u001b[1mAutoAnchor: \u001b[0m2.60 anchors/target, 1.000 Best Possible Recall (BPR). Current anchors are a good fit to dataset ✅\n",
      "Image sizes 640 train, 640 val\n",
      "Using 8 dataloader workers\n",
      "Logging results to \u001b[1myolov5/runs/train/exp7\u001b[0m\n",
      "Starting training for 5 epochs...\n",
      "\n",
      "     Epoch   gpu_mem       box       obj       cls    labels  img_size\n",
      "  0%|          | 0/33 [00:00<?, ?it/s]                                          /home/sylvain/.pyenv/versions/3.8.9/envs/UseCase/lib/python3.8/site-packages/torch/autocast_mode.py:141: UserWarning: User provided device_type of 'cuda', but CUDA is not available. Disabling\n",
      "  warnings.warn('User provided device_type of \\'cuda\\', but CUDA is not available. Disabling')\n",
      "       0/4        0G   0.07541   0.03068   0.03403        39       640:   3%|▎  /home/sylvain/.pyenv/versions/3.8.9/envs/UseCase/lib/python3.8/site-packages/torch/autocast_mode.py:141: UserWarning: User provided device_type of 'cuda', but CUDA is not available. Disabling\n",
      "  warnings.warn('User provided device_type of \\'cuda\\', but CUDA is not available. Disabling')\n",
      "       0/4        0G   0.09764     0.031    0.0413        41       640:   6%|▌  /home/sylvain/.pyenv/versions/3.8.9/envs/UseCase/lib/python3.8/site-packages/torch/autocast_mode.py:141: UserWarning: User provided device_type of 'cuda', but CUDA is not available. Disabling\n",
      "  warnings.warn('User provided device_type of \\'cuda\\', but CUDA is not available. Disabling')\n",
      "       0/4        0G   0.09989   0.03095   0.04407        43       640:   9%|▉  /home/sylvain/.pyenv/versions/3.8.9/envs/UseCase/lib/python3.8/site-packages/torch/autocast_mode.py:141: UserWarning: User provided device_type of 'cuda', but CUDA is not available. Disabling\n",
      "  warnings.warn('User provided device_type of \\'cuda\\', but CUDA is not available. Disabling')\n",
      "       0/4        0G    0.1047   0.03119   0.04619        50       640:  12%|█▏ /home/sylvain/.pyenv/versions/3.8.9/envs/UseCase/lib/python3.8/site-packages/torch/autocast_mode.py:141: UserWarning: User provided device_type of 'cuda', but CUDA is not available. Disabling\n",
      "  warnings.warn('User provided device_type of \\'cuda\\', but CUDA is not available. Disabling')\n",
      "       0/4        0G    0.1055   0.03182   0.04726        54       640:  15%|█▌ /home/sylvain/.pyenv/versions/3.8.9/envs/UseCase/lib/python3.8/site-packages/torch/autocast_mode.py:141: UserWarning: User provided device_type of 'cuda', but CUDA is not available. Disabling\n",
      "  warnings.warn('User provided device_type of \\'cuda\\', but CUDA is not available. Disabling')\n",
      "       0/4        0G   0.09992   0.03229   0.04532        54       640:  18%|█▊ /home/sylvain/.pyenv/versions/3.8.9/envs/UseCase/lib/python3.8/site-packages/torch/autocast_mode.py:141: UserWarning: User provided device_type of 'cuda', but CUDA is not available. Disabling\n",
      "  warnings.warn('User provided device_type of \\'cuda\\', but CUDA is not available. Disabling')\n",
      "       0/4        0G    0.1019   0.03234   0.04705        49       640:  21%|██ /home/sylvain/.pyenv/versions/3.8.9/envs/UseCase/lib/python3.8/site-packages/torch/autocast_mode.py:141: UserWarning: User provided device_type of 'cuda', but CUDA is not available. Disabling\n",
      "  warnings.warn('User provided device_type of \\'cuda\\', but CUDA is not available. Disabling')\n",
      "       0/4        0G    0.1046   0.03195   0.04803        44       640:  24%|██▍/home/sylvain/.pyenv/versions/3.8.9/envs/UseCase/lib/python3.8/site-packages/torch/autocast_mode.py:141: UserWarning: User provided device_type of 'cuda', but CUDA is not available. Disabling\n",
      "  warnings.warn('User provided device_type of \\'cuda\\', but CUDA is not available. Disabling')\n",
      "       0/4        0G    0.1046   0.03215   0.04861        52       640:  27%|██▋/home/sylvain/.pyenv/versions/3.8.9/envs/UseCase/lib/python3.8/site-packages/torch/autocast_mode.py:141: UserWarning: User provided device_type of 'cuda', but CUDA is not available. Disabling\n",
      "  warnings.warn('User provided device_type of \\'cuda\\', but CUDA is not available. Disabling')\n",
      "       0/4        0G    0.1045   0.03179   0.04868        39       640:  30%|███/home/sylvain/.pyenv/versions/3.8.9/envs/UseCase/lib/python3.8/site-packages/torch/autocast_mode.py:141: UserWarning: User provided device_type of 'cuda', but CUDA is not available. Disabling\n",
      "  warnings.warn('User provided device_type of \\'cuda\\', but CUDA is not available. Disabling')\n",
      "       0/4        0G    0.1044   0.03153   0.04867        40       640:  33%|███/home/sylvain/.pyenv/versions/3.8.9/envs/UseCase/lib/python3.8/site-packages/torch/autocast_mode.py:141: UserWarning: User provided device_type of 'cuda', but CUDA is not available. Disabling\n",
      "  warnings.warn('User provided device_type of \\'cuda\\', but CUDA is not available. Disabling')\n",
      "       0/4        0G    0.1045   0.03161    0.0491        52       640:  36%|███/home/sylvain/.pyenv/versions/3.8.9/envs/UseCase/lib/python3.8/site-packages/torch/autocast_mode.py:141: UserWarning: User provided device_type of 'cuda', but CUDA is not available. Disabling\n",
      "  warnings.warn('User provided device_type of \\'cuda\\', but CUDA is not available. Disabling')\n",
      "       0/4        0G    0.1022   0.03122    0.0478        34       640:  39%|███/home/sylvain/.pyenv/versions/3.8.9/envs/UseCase/lib/python3.8/site-packages/torch/autocast_mode.py:141: UserWarning: User provided device_type of 'cuda', but CUDA is not available. Disabling\n",
      "  warnings.warn('User provided device_type of \\'cuda\\', but CUDA is not available. Disabling')\n",
      "       0/4        0G    0.0999   0.03108    0.0468        47       640:  42%|███/home/sylvain/.pyenv/versions/3.8.9/envs/UseCase/lib/python3.8/site-packages/torch/autocast_mode.py:141: UserWarning: User provided device_type of 'cuda', but CUDA is not available. Disabling\n",
      "  warnings.warn('User provided device_type of \\'cuda\\', but CUDA is not available. Disabling')\n",
      "       0/4        0G    0.1004   0.03107   0.04698        53       640:  45%|███/home/sylvain/.pyenv/versions/3.8.9/envs/UseCase/lib/python3.8/site-packages/torch/autocast_mode.py:141: UserWarning: User provided device_type of 'cuda', but CUDA is not available. Disabling\n",
      "  warnings.warn('User provided device_type of \\'cuda\\', but CUDA is not available. Disabling')\n",
      "       0/4        0G   0.09833   0.03093    0.0462        49       640:  48%|███/home/sylvain/.pyenv/versions/3.8.9/envs/UseCase/lib/python3.8/site-packages/torch/autocast_mode.py:141: UserWarning: User provided device_type of 'cuda', but CUDA is not available. Disabling\n",
      "  warnings.warn('User provided device_type of \\'cuda\\', but CUDA is not available. Disabling')\n",
      "       0/4        0G   0.09851   0.03095    0.0465        51       640:  52%|███/home/sylvain/.pyenv/versions/3.8.9/envs/UseCase/lib/python3.8/site-packages/torch/autocast_mode.py:141: UserWarning: User provided device_type of 'cuda', but CUDA is not available. Disabling\n",
      "  warnings.warn('User provided device_type of \\'cuda\\', but CUDA is not available. Disabling')\n",
      "       0/4        0G   0.09655   0.03069   0.04576        39       640:  55%|███/home/sylvain/.pyenv/versions/3.8.9/envs/UseCase/lib/python3.8/site-packages/torch/autocast_mode.py:141: UserWarning: User provided device_type of 'cuda', but CUDA is not available. Disabling\n",
      "  warnings.warn('User provided device_type of \\'cuda\\', but CUDA is not available. Disabling')\n",
      "       0/4        0G   0.09621   0.03063   0.04635        49       640:  58%|███/home/sylvain/.pyenv/versions/3.8.9/envs/UseCase/lib/python3.8/site-packages/torch/autocast_mode.py:141: UserWarning: User provided device_type of 'cuda', but CUDA is not available. Disabling\n",
      "  warnings.warn('User provided device_type of \\'cuda\\', but CUDA is not available. Disabling')\n",
      "       0/4        0G    0.0961   0.03064   0.04642        54       640:  61%|███/home/sylvain/.pyenv/versions/3.8.9/envs/UseCase/lib/python3.8/site-packages/torch/autocast_mode.py:141: UserWarning: User provided device_type of 'cuda', but CUDA is not available. Disabling\n",
      "  warnings.warn('User provided device_type of \\'cuda\\', but CUDA is not available. Disabling')\n",
      "       0/4        0G    0.0964   0.03064   0.04683        53       640:  64%|███/home/sylvain/.pyenv/versions/3.8.9/envs/UseCase/lib/python3.8/site-packages/torch/autocast_mode.py:141: UserWarning: User provided device_type of 'cuda', but CUDA is not available. Disabling\n",
      "  warnings.warn('User provided device_type of \\'cuda\\', but CUDA is not available. Disabling')\n",
      "       0/4        0G   0.09513   0.03061    0.0462        51       640:  67%|███/home/sylvain/.pyenv/versions/3.8.9/envs/UseCase/lib/python3.8/site-packages/torch/autocast_mode.py:141: UserWarning: User provided device_type of 'cuda', but CUDA is not available. Disabling\n",
      "  warnings.warn('User provided device_type of \\'cuda\\', but CUDA is not available. Disabling')\n",
      "       0/4        0G   0.09529   0.03047   0.04669        42       640:  70%|███/home/sylvain/.pyenv/versions/3.8.9/envs/UseCase/lib/python3.8/site-packages/torch/autocast_mode.py:141: UserWarning: User provided device_type of 'cuda', but CUDA is not available. Disabling\n",
      "  warnings.warn('User provided device_type of \\'cuda\\', but CUDA is not available. Disabling')\n",
      "       0/4        0G   0.09571   0.03041   0.04681        47       640:  73%|███/home/sylvain/.pyenv/versions/3.8.9/envs/UseCase/lib/python3.8/site-packages/torch/autocast_mode.py:141: UserWarning: User provided device_type of 'cuda', but CUDA is not available. Disabling\n",
      "  warnings.warn('User provided device_type of \\'cuda\\', but CUDA is not available. Disabling')\n",
      "       0/4        0G   0.09512   0.03046   0.04702        51       640:  76%|███/home/sylvain/.pyenv/versions/3.8.9/envs/UseCase/lib/python3.8/site-packages/torch/autocast_mode.py:141: UserWarning: User provided device_type of 'cuda', but CUDA is not available. Disabling\n",
      "  warnings.warn('User provided device_type of \\'cuda\\', but CUDA is not available. Disabling')\n",
      "       0/4        0G   0.09508   0.03045     0.047        48       640:  79%|███/home/sylvain/.pyenv/versions/3.8.9/envs/UseCase/lib/python3.8/site-packages/torch/autocast_mode.py:141: UserWarning: User provided device_type of 'cuda', but CUDA is not available. Disabling\n",
      "  warnings.warn('User provided device_type of \\'cuda\\', but CUDA is not available. Disabling')\n",
      "       0/4        0G   0.09374   0.03026    0.0465        37       640:  82%|███/home/sylvain/.pyenv/versions/3.8.9/envs/UseCase/lib/python3.8/site-packages/torch/autocast_mode.py:141: UserWarning: User provided device_type of 'cuda', but CUDA is not available. Disabling\n",
      "  warnings.warn('User provided device_type of \\'cuda\\', but CUDA is not available. Disabling')\n",
      "       0/4        0G   0.09428   0.03026   0.04649        49       640:  85%|███/home/sylvain/.pyenv/versions/3.8.9/envs/UseCase/lib/python3.8/site-packages/torch/autocast_mode.py:141: UserWarning: User provided device_type of 'cuda', but CUDA is not available. Disabling\n",
      "  warnings.warn('User provided device_type of \\'cuda\\', but CUDA is not available. Disabling')\n",
      "       0/4        0G   0.09398   0.03012   0.04658        41       640:  88%|███/home/sylvain/.pyenv/versions/3.8.9/envs/UseCase/lib/python3.8/site-packages/torch/autocast_mode.py:141: UserWarning: User provided device_type of 'cuda', but CUDA is not available. Disabling\n",
      "  warnings.warn('User provided device_type of \\'cuda\\', but CUDA is not available. Disabling')\n",
      "       0/4        0G   0.09403   0.03008   0.04668        49       640:  91%|███/home/sylvain/.pyenv/versions/3.8.9/envs/UseCase/lib/python3.8/site-packages/torch/autocast_mode.py:141: UserWarning: User provided device_type of 'cuda', but CUDA is not available. Disabling\n",
      "  warnings.warn('User provided device_type of \\'cuda\\', but CUDA is not available. Disabling')\n",
      "       0/4        0G   0.09415   0.03003   0.04671        49       640:  94%|███/home/sylvain/.pyenv/versions/3.8.9/envs/UseCase/lib/python3.8/site-packages/torch/autocast_mode.py:141: UserWarning: User provided device_type of 'cuda', but CUDA is not available. Disabling\n",
      "  warnings.warn('User provided device_type of \\'cuda\\', but CUDA is not available. Disabling')\n",
      "       0/4        0G   0.09431   0.02992   0.04686        42       640:  97%|███/home/sylvain/.pyenv/versions/3.8.9/envs/UseCase/lib/python3.8/site-packages/torch/autocast_mode.py:141: UserWarning: User provided device_type of 'cuda', but CUDA is not available. Disabling\n",
      "  warnings.warn('User provided device_type of \\'cuda\\', but CUDA is not available. Disabling')\n",
      "       0/4        0G   0.09236   0.02952   0.04597         1       640: 100%|███\n",
      "               Class     Images     Labels          P          R     mAP@.5 mAP@\n",
      "                 all         48         50    0.00174      0.125    0.00141   0.000284\n",
      "\n",
      "     Epoch   gpu_mem       box       obj       cls    labels  img_size\n",
      "  0%|          | 0/33 [00:00<?, ?it/s]                                          /home/sylvain/.pyenv/versions/3.8.9/envs/UseCase/lib/python3.8/site-packages/torch/autocast_mode.py:141: UserWarning: User provided device_type of 'cuda', but CUDA is not available. Disabling\n",
      "  warnings.warn('User provided device_type of \\'cuda\\', but CUDA is not available. Disabling')\n",
      "       1/4        0G   0.08455   0.03208   0.05165        56       640:   3%|▎  /home/sylvain/.pyenv/versions/3.8.9/envs/UseCase/lib/python3.8/site-packages/torch/autocast_mode.py:141: UserWarning: User provided device_type of 'cuda', but CUDA is not available. Disabling\n",
      "  warnings.warn('User provided device_type of \\'cuda\\', but CUDA is not available. Disabling')\n",
      "       1/4        0G   0.07916   0.02984   0.05358        45       640:   6%|▌  /home/sylvain/.pyenv/versions/3.8.9/envs/UseCase/lib/python3.8/site-packages/torch/autocast_mode.py:141: UserWarning: User provided device_type of 'cuda', but CUDA is not available. Disabling\n",
      "  warnings.warn('User provided device_type of \\'cuda\\', but CUDA is not available. Disabling')\n",
      "       1/4        0G   0.08375   0.02831   0.05253        44       640:   9%|▉  /home/sylvain/.pyenv/versions/3.8.9/envs/UseCase/lib/python3.8/site-packages/torch/autocast_mode.py:141: UserWarning: User provided device_type of 'cuda', but CUDA is not available. Disabling\n",
      "  warnings.warn('User provided device_type of \\'cuda\\', but CUDA is not available. Disabling')\n",
      "       1/4        0G   0.08414   0.02758   0.05363        43       640:  12%|█▏ /home/sylvain/.pyenv/versions/3.8.9/envs/UseCase/lib/python3.8/site-packages/torch/autocast_mode.py:141: UserWarning: User provided device_type of 'cuda', but CUDA is not available. Disabling\n",
      "  warnings.warn('User provided device_type of \\'cuda\\', but CUDA is not available. Disabling')\n",
      "       1/4        0G   0.08553   0.02794    0.0531        50       640:  15%|█▌ /home/sylvain/.pyenv/versions/3.8.9/envs/UseCase/lib/python3.8/site-packages/torch/autocast_mode.py:141: UserWarning: User provided device_type of 'cuda', but CUDA is not available. Disabling\n",
      "  warnings.warn('User provided device_type of \\'cuda\\', but CUDA is not available. Disabling')\n",
      "       1/4        0G   0.08525    0.0283   0.05205        49       640:  18%|█▊ /home/sylvain/.pyenv/versions/3.8.9/envs/UseCase/lib/python3.8/site-packages/torch/autocast_mode.py:141: UserWarning: User provided device_type of 'cuda', but CUDA is not available. Disabling\n",
      "  warnings.warn('User provided device_type of \\'cuda\\', but CUDA is not available. Disabling')\n",
      "       1/4        0G   0.08169   0.02756   0.04927        36       640:  21%|██ /home/sylvain/.pyenv/versions/3.8.9/envs/UseCase/lib/python3.8/site-packages/torch/autocast_mode.py:141: UserWarning: User provided device_type of 'cuda', but CUDA is not available. Disabling\n",
      "  warnings.warn('User provided device_type of \\'cuda\\', but CUDA is not available. Disabling')\n",
      "       1/4        0G    0.0823   0.02748   0.04842        43       640:  24%|██▍/home/sylvain/.pyenv/versions/3.8.9/envs/UseCase/lib/python3.8/site-packages/torch/autocast_mode.py:141: UserWarning: User provided device_type of 'cuda', but CUDA is not available. Disabling\n",
      "  warnings.warn('User provided device_type of \\'cuda\\', but CUDA is not available. Disabling')\n",
      "       1/4        0G   0.08378   0.02845   0.04827        65       640:  27%|██▋/home/sylvain/.pyenv/versions/3.8.9/envs/UseCase/lib/python3.8/site-packages/torch/autocast_mode.py:141: UserWarning: User provided device_type of 'cuda', but CUDA is not available. Disabling\n",
      "  warnings.warn('User provided device_type of \\'cuda\\', but CUDA is not available. Disabling')\n",
      "       1/4        0G   0.08454   0.02835   0.04797        45       640:  30%|███/home/sylvain/.pyenv/versions/3.8.9/envs/UseCase/lib/python3.8/site-packages/torch/autocast_mode.py:141: UserWarning: User provided device_type of 'cuda', but CUDA is not available. Disabling\n",
      "  warnings.warn('User provided device_type of \\'cuda\\', but CUDA is not available. Disabling')\n",
      "^C\n"
     ]
    }
   ],
   "source": [
    "!python yolov5/train.py --img 640 --batch 16 --epochs 5 --data {DATA_PATH}/data.yaml --weights yolov5m.pt"
   ]
  },
  {
   "cell_type": "markdown",
   "metadata": {},
   "source": [
    "# Testing with a new image"
   ]
  },
  {
   "cell_type": "code",
   "execution_count": null,
   "metadata": {},
   "outputs": [],
   "source": [
    "# load the image from disk\n",
    "image = cv2.imread('./image/image_1.jpeg')\n",
    "# create blob from image\n",
    "blob = cv2.dnn.blobFromImage(image=image, scalefactor=0.01, size=(224, 224), mean=(104, 117, 123))"
   ]
  },
  {
   "cell_type": "code",
   "execution_count": null,
   "metadata": {},
   "outputs": [],
   "source": [
    "# set the input blob for the neural network\n",
    "net.setInput(blob)\n",
    "# forward pass image blog through the model\n",
    "outputs = net.forward()\n"
   ]
  },
  {
   "cell_type": "code",
   "execution_count": null,
   "metadata": {},
   "outputs": [],
   "source": [
    "outputs"
   ]
  },
  {
   "cell_type": "code",
   "execution_count": null,
   "metadata": {},
   "outputs": [],
   "source": [
    "final_outputs = outputs[0]\n",
    "# make all the outputs 1D\n",
    "final_outputs = final_outputs.reshape(25)\n",
    "# get the class label\n",
    "label_id = np.argmax(final_outputs)\n",
    "# convert the output scores to softmax probabilities\n",
    "probs = np.exp(final_outputs) / np.sum(np.exp(final_outputs))\n",
    "# get the final highest probability\n",
    "final_prob = np.max(probs) * 100.\n",
    "# map the max confidence to the class label names\n",
    "out_name = labels[label_id]\n",
    "out_text = f\"{out_name}, {final_prob:.3f}\"\n",
    "print(out_text)"
   ]
  },
  {
   "cell_type": "markdown",
   "metadata": {},
   "source": [
    "## Metrics"
   ]
  },
  {
   "cell_type": "code",
   "execution_count": null,
   "metadata": {},
   "outputs": [],
   "source": [
    "import sklearn.metrics as metrics"
   ]
  },
  {
   "cell_type": "code",
   "execution_count": null,
   "metadata": {},
   "outputs": [],
   "source": [
    "# y_true = [\"cat\", \"ant\", \"cat\", \"cat\", \"ant\", \"bird\"]\n",
    "# y_pred = [\"ant\", \"ant\", \"cat\", \"cat\", \"ant\", \"cat\"]\n",
    "metrics.confusion_matrix(y_true, y_pred, labels=labels)"
   ]
  }
 ],
 "metadata": {
  "interpreter": {
   "hash": "43f187d08a7b233672e80b21f375ffa49d1e0713ec8f6d0daf527eb8a4289c85"
  },
  "kernelspec": {
   "display_name": "Python 3.10.0 64-bit ('3.10.0': pyenv)",
   "language": "python",
   "name": "python3"
  },
  "language_info": {
   "codemirror_mode": {
    "name": "ipython",
    "version": 3
   },
   "file_extension": ".py",
   "mimetype": "text/x-python",
   "name": "python",
   "nbconvert_exporter": "python",
   "pygments_lexer": "ipython3",
   "version": "3.8.9"
  },
  "orig_nbformat": 4
 },
 "nbformat": 4,
 "nbformat_minor": 2
}
