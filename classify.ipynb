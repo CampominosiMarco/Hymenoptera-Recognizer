{
 "cells": [
  {
   "cell_type": "markdown",
   "metadata": {},
   "source": [
    "# Classify Hymenoptera species"
   ]
  },
  {
   "cell_type": "code",
   "execution_count": 1,
   "metadata": {},
   "outputs": [],
   "source": [
    "##############################################################################\n",
    "#                                                                            #\n",
    "#                ▄▄████████████▄ ▐                                           #\n",
    "#             ▄███▀▀▀▀▀▀▀████████▐                                           #\n",
    "#         ▄▀▀▀▄▄▄▄███████▄▄▄▄▀▀▀█▐                                           #\n",
    "#      ▄▛ ▟█████████████████████▄▐                                           #\n",
    "#    ▄█▛ ▟█         ▀▚   █████   ▐                                           #\n",
    "#   ███ ██▌   ▄▄▄▖   ▐  ▐████▌   ▐    ████████ ████████  ▟████▙   ██     ██  #\n",
    "#  ████ ██▌   ███▛   ▐  ▐████▌   ▐       ██    ██       ▟█▛  ▜█▙  ██     ██  #\n",
    "#  ████ ▀█           ▞  █████    ▐       ██    ███████  ██        █████████  #\n",
    "#  █████ █   ▄▄▄▄▄▄▄▞   ▜██▛    ▐▐       ██    ██       ▜█▙  ▟█▛  ██     ██  #\n",
    "#   █████    ██████            ▐█▐       ██    ████████  ▜████▛   ██     ██  #\n",
    "#    █████  ███████▙          ▟██▐                                           #\n",
    "#     ▀████▙▀▀▀█████████████▀▀▀▄▄▐                                           #\n",
    "#       ▀██████▄▄▄▄▀▀▀▀▀▄▄▄▄█████▐                                           #\n",
    "#          ▀███████████████████▀ ▐                                           #\n",
    "#             ▀▀███████████▀▀    ▐                                           #\n",
    "#                                                                            #\n",
    "##############################################################################"
   ]
  },
  {
   "cell_type": "code",
   "execution_count": 1,
   "metadata": {},
   "outputs": [
    {
     "ename": "ModuleNotFoundError",
     "evalue": "No module named 'pytorch'",
     "output_type": "error",
     "traceback": [
      "\u001b[0;31m---------------------------------------------------------------------------\u001b[0m",
      "\u001b[0;31mModuleNotFoundError\u001b[0m                       Traceback (most recent call last)",
      "\u001b[0;32m/tmp/ipykernel_18877/2029995474.py\u001b[0m in \u001b[0;36m<module>\u001b[0;34m\u001b[0m\n\u001b[1;32m      5\u001b[0m \u001b[0;32mimport\u001b[0m \u001b[0mcv2\u001b[0m\u001b[0;34m\u001b[0m\u001b[0;34m\u001b[0m\u001b[0m\n\u001b[1;32m      6\u001b[0m \u001b[0;32mimport\u001b[0m \u001b[0mos\u001b[0m\u001b[0;34m\u001b[0m\u001b[0;34m\u001b[0m\u001b[0m\n\u001b[0;32m----> 7\u001b[0;31m \u001b[0;32mimport\u001b[0m \u001b[0mpytorch\u001b[0m\u001b[0;34m\u001b[0m\u001b[0;34m\u001b[0m\u001b[0m\n\u001b[0m",
      "\u001b[0;31mModuleNotFoundError\u001b[0m: No module named 'pytorch'"
     ]
    }
   ],
   "source": [
    "# import the necessary packages\n",
    "import numpy as np\n",
    "import argparse\n",
    "import time\n",
    "import cv2\n",
    "import os\n",
    "import pytorch"
   ]
  },
  {
   "cell_type": "markdown",
   "metadata": {},
   "source": [
    "# Constants"
   ]
  },
  {
   "cell_type": "code",
   "execution_count": 12,
   "metadata": {},
   "outputs": [],
   "source": [
    "DATA_PATH = \"./dataset/Hymenoptera.v2i.yolov5pytorch\"\n",
    "MODEL_PATH = \"./model\""
   ]
  },
  {
   "cell_type": "markdown",
   "metadata": {},
   "source": [
    "# Load dataset"
   ]
  },
  {
   "cell_type": "code",
   "execution_count": 42,
   "metadata": {},
   "outputs": [
    {
     "name": "stdout",
     "output_type": "stream",
     "text": [
      "['Abeille', 'Guepe', 'Frelon Européen', 'Frelon Oriental', 'Frelon Asiatique']\n",
      "[[203 219  47]\n",
      " [253 158  25]\n",
      " [246  77 131]\n",
      " [246 174 140]\n",
      " [124  23 230]]\n"
     ]
    }
   ],
   "source": [
    "# import custom dataset\n",
    "labels = open(os.path.join(DATA_PATH, \"obj.names\")).read().splitlines()\n",
    "np.random.seed(45)\n",
    "boxColors = np.random.randint(0, 255, size=(len(labels), 3), dtype=\"uint8\")\n",
    "print(labels)\n",
    "print(boxColors)"
   ]
  },
  {
   "cell_type": "code",
   "execution_count": 40,
   "metadata": {},
   "outputs": [],
   "source": []
  },
  {
   "cell_type": "markdown",
   "metadata": {},
   "source": [
    "# Load model"
   ]
  },
  {
   "cell_type": "code",
   "execution_count": 57,
   "metadata": {},
   "outputs": [],
   "source": [
    "net = cv2.dnn.readNetFromDarknet(os.path.join(MODEL_PATH, \"cfg\", \"yolov2-voc.cfg\"), os.path.join(MODEL_PATH,\"yolov2-voc.weights\"))"
   ]
  },
  {
   "cell_type": "code",
   "execution_count": 63,
   "metadata": {},
   "outputs": [],
   "source": [
    "layer_names = net.getLayerNames()\n",
    "output_layers = [layer_names[i-1] for i in net.getUnconnectedOutLayers()]"
   ]
  },
  {
   "cell_type": "markdown",
   "metadata": {},
   "source": [
    "# Retrain the model with our data"
   ]
  },
  {
   "cell_type": "code",
   "execution_count": null,
   "metadata": {},
   "outputs": [],
   "source": []
  },
  {
   "cell_type": "markdown",
   "metadata": {},
   "source": [
    "# Testing with a new image"
   ]
  },
  {
   "cell_type": "code",
   "execution_count": 55,
   "metadata": {},
   "outputs": [],
   "source": [
    "# load the image from disk\n",
    "image = cv2.imread('./image/image_1.jpeg')\n",
    "# create blob from image\n",
    "blob = cv2.dnn.blobFromImage(image=image, scalefactor=0.01, size=(224, 224), mean=(104, 117, 123))"
   ]
  },
  {
   "cell_type": "code",
   "execution_count": 69,
   "metadata": {},
   "outputs": [],
   "source": [
    "# set the input blob for the neural network\n",
    "net.setInput(blob)\n",
    "# forward pass image blog through the model\n",
    "outputs = net.forward()\n"
   ]
  },
  {
   "cell_type": "code",
   "execution_count": null,
   "metadata": {},
   "outputs": [],
   "source": [
    "outputs"
   ]
  },
  {
   "cell_type": "code",
   "execution_count": 71,
   "metadata": {},
   "outputs": [
    {
     "name": "stdout",
     "output_type": "stream",
     "text": [
      "Frelon Oriental, 4.472\n"
     ]
    }
   ],
   "source": [
    "final_outputs = outputs[0]\n",
    "# make all the outputs 1D\n",
    "final_outputs = final_outputs.reshape(25)\n",
    "# get the class label\n",
    "label_id = np.argmax(final_outputs)\n",
    "# convert the output scores to softmax probabilities\n",
    "probs = np.exp(final_outputs) / np.sum(np.exp(final_outputs))\n",
    "# get the final highest probability\n",
    "final_prob = np.max(probs) * 100.\n",
    "# map the max confidence to the class label names\n",
    "out_name = labels[label_id]\n",
    "out_text = f\"{out_name}, {final_prob:.3f}\"\n",
    "print(out_text)"
   ]
  },
  {
   "cell_type": "markdown",
   "metadata": {},
   "source": [
    "## Metrics"
   ]
  },
  {
   "cell_type": "code",
   "execution_count": null,
   "metadata": {},
   "outputs": [],
   "source": [
    "import sklearn.metrics as metrics"
   ]
  },
  {
   "cell_type": "code",
   "execution_count": null,
   "metadata": {},
   "outputs": [],
   "source": [
    "# y_true = [\"cat\", \"ant\", \"cat\", \"cat\", \"ant\", \"bird\"]\n",
    "# y_pred = [\"ant\", \"ant\", \"cat\", \"cat\", \"ant\", \"cat\"]\n",
    "metrics.confusion_matrix(y_true, y_pred, labels=labels)"
   ]
  }
 ],
 "metadata": {
  "interpreter": {
   "hash": "43f187d08a7b233672e80b21f375ffa49d1e0713ec8f6d0daf527eb8a4289c85"
  },
  "kernelspec": {
   "display_name": "Python 3.10.0 64-bit ('3.10.0': pyenv)",
   "language": "python",
   "name": "python3"
  },
  "language_info": {
   "codemirror_mode": {
    "name": "ipython",
    "version": 3
   },
   "file_extension": ".py",
   "mimetype": "text/x-python",
   "name": "python",
   "nbconvert_exporter": "python",
   "pygments_lexer": "ipython3",
   "version": "3.9.8"
  },
  "orig_nbformat": 4
 },
 "nbformat": 4,
 "nbformat_minor": 2
}
